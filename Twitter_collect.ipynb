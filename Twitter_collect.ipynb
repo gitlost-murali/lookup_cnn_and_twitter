{
  "nbformat": 4,
  "nbformat_minor": 0,
  "metadata": {
    "colab": {
      "name": "Twitter_collect.ipynb",
      "version": "0.3.2",
      "provenance": [],
      "collapsed_sections": []
    },
    "kernelspec": {
      "name": "python3",
      "display_name": "Python 3"
    }
  },
  "cells": [
    {
      "metadata": {
        "id": "VFqM5NlgjGbd",
        "colab_type": "text"
      },
      "cell_type": "markdown",
      "source": [
        "# Install tweepy"
      ]
    },
    {
      "metadata": {
        "id": "JPL75c9cO-Ng",
        "colab_type": "code",
        "outputId": "45bab90f-90d6-4fe8-abd7-582cc4937de8",
        "colab": {
          "base_uri": "https://localhost:8080/",
          "height": 195
        }
      },
      "cell_type": "code",
      "source": [
        "!pip install tweepy"
      ],
      "execution_count": 1,
      "outputs": [
        {
          "output_type": "stream",
          "text": [
            "Requirement already satisfied: tweepy in /usr/local/lib/python3.6/dist-packages (3.6.0)\n",
            "Requirement already satisfied: six>=1.10.0 in /usr/local/lib/python3.6/dist-packages (from tweepy) (1.11.0)\n",
            "Requirement already satisfied: requests-oauthlib>=0.7.0 in /usr/local/lib/python3.6/dist-packages (from tweepy) (1.2.0)\n",
            "Requirement already satisfied: PySocks>=1.5.7 in /usr/local/lib/python3.6/dist-packages (from tweepy) (1.6.8)\n",
            "Requirement already satisfied: requests>=2.11.1 in /usr/local/lib/python3.6/dist-packages (from tweepy) (2.18.4)\n",
            "Requirement already satisfied: oauthlib>=3.0.0 in /usr/local/lib/python3.6/dist-packages (from requests-oauthlib>=0.7.0->tweepy) (3.0.1)\n",
            "Requirement already satisfied: urllib3<1.23,>=1.21.1 in /usr/local/lib/python3.6/dist-packages (from requests>=2.11.1->tweepy) (1.22)\n",
            "Requirement already satisfied: certifi>=2017.4.17 in /usr/local/lib/python3.6/dist-packages (from requests>=2.11.1->tweepy) (2019.3.9)\n",
            "Requirement already satisfied: idna<2.7,>=2.5 in /usr/local/lib/python3.6/dist-packages (from requests>=2.11.1->tweepy) (2.6)\n",
            "Requirement already satisfied: chardet<3.1.0,>=3.0.2 in /usr/local/lib/python3.6/dist-packages (from requests>=2.11.1->tweepy) (3.0.4)\n"
          ],
          "name": "stdout"
        }
      ]
    },
    {
      "metadata": {
        "id": "pJYRDZCGjMeu",
        "colab_type": "code",
        "colab": {}
      },
      "cell_type": "code",
      "source": [
        ""
      ],
      "execution_count": 0,
      "outputs": []
    },
    {
      "metadata": {
        "id": "FdCKlFVVjOUq",
        "colab_type": "text"
      },
      "cell_type": "markdown",
      "source": [
        "## Import modules\n",
        "\n",
        "tweepy for accessing twitter. csv to write down in tabular format."
      ]
    },
    {
      "metadata": {
        "id": "2ShfzaTOMM6R",
        "colab_type": "code",
        "colab": {}
      },
      "cell_type": "code",
      "source": [
        "import tweepy \n",
        "import csv\n",
        "import sys\n",
        "\n",
        "#Twitter API credentials\n",
        "consumer_key = \"\"\n",
        "consumer_secret = \"\"\n",
        "access_key = \"\"\n",
        "access_secret = \"\"\n",
        "\n",
        "\n"
      ],
      "execution_count": 0,
      "outputs": []
    },
    {
      "metadata": {
        "id": "nm8Vv_hpO1Wq",
        "colab_type": "code",
        "colab": {}
      },
      "cell_type": "code",
      "source": [
        ""
      ],
      "execution_count": 0,
      "outputs": []
    },
    {
      "metadata": {
        "id": "SBjjAo8PjdOI",
        "colab_type": "text"
      },
      "cell_type": "markdown",
      "source": [
        "## Function to get Tweets \n",
        "\n",
        "    "
      ]
    },
    {
      "metadata": {
        "id": "E1OpMDwDR1vO",
        "colab_type": "code",
        "colab": {}
      },
      "cell_type": "code",
      "source": [
        "def get_all_tweets(screen_name):\n",
        "  #Twitter only allows access to a users most recent 3240 tweets with this method\n",
        "\n",
        "  #authorize twitter, initialize tweepy\n",
        "  auth = tweepy.OAuthHandler(consumer_key, consumer_secret)\n",
        "  auth.set_access_token(access_key, access_secret)\n",
        "  api = tweepy.API(auth)\n",
        "\n",
        "  #initialize a list to hold all the tweepy Tweets\n",
        "  alltweets = []\n",
        "\n",
        "  #make initial request for most recent tweets (200 is the maximum allowed count)\n",
        "  new_tweets = api.user_timeline(screen_name = screen_name,count=1)\n",
        "\n",
        "  #save most recent tweets\n",
        "  alltweets.extend(new_tweets)\n",
        "  tweet = alltweets[-1]\n",
        "  print(tweet.id_str, str(tweet.created_at), str(tweet.text),str(tweet.favorite_count),str(tweet.retweet_count), str(len(tweet.entities.get('media',[]))))\n",
        "                                                                                                                   \n",
        "  #save the id of the oldest tweet less one\n",
        "  oldest = alltweets[-1].id - 1\n",
        "\n",
        "  #keep grabbing tweets until there are no tweets left to grab\n",
        "  while len(new_tweets) > 0:\n",
        "    print (\"getting tweets before %s\" % (oldest))\n",
        "\n",
        "    #all subsequent requests use the max_id param to prevent duplicates\n",
        "    new_tweets = api.user_timeline(screen_name = screen_name,count=200,max_id=oldest)\n",
        "\n",
        "    #save most recent tweets\n",
        "    alltweets.extend(new_tweets)\n",
        "\n",
        "    #update the id of the oldest tweet less one\n",
        "    oldest = alltweets[-1].id - 1\n",
        "\n",
        "    print (\"...%s tweets downloaded so far\" % (len(alltweets)))\n",
        "\n",
        "  outtweets = [[tweet.id_str, str(tweet.created_at), str(tweet.text),str(tweet.favorite_count),str(tweet.retweet_count), str(len(tweet.entities.get('media',[]))) ] for tweet in alltweets]\n",
        "\t\n",
        "  #write the csv\t\n",
        "  with open('%s_tweets.csv' % screen_name, 'w') as f:\n",
        "    writer = csv.writer(f)\n",
        "    writer.writerow([\"id\",\"created_at\",\"text\",\"# likes\",\"# Retweets\",\"# Media\"])\n",
        "    writer.writerows(outtweets)\n",
        "\n",
        "\n",
        "\n"
      ],
      "execution_count": 0,
      "outputs": []
    },
    {
      "metadata": {
        "id": "3GUyKdnmO5Gm",
        "colab_type": "code",
        "outputId": "d344d208-1495-4071-f29b-aaa07229a3e7",
        "colab": {
          "base_uri": "https://localhost:8080/",
          "height": 177
        }
      },
      "cell_type": "code",
      "source": [
        "if __name__ == '__main__':\n",
        "        #pass in the username of the account you want to download\n",
        "        get_all_tweets(\"midasIIITD\")"
      ],
      "execution_count": 6,
      "outputs": [
        {
          "output_type": "stream",
          "text": [
            "1110419817335447552 2019-03-26 05:54:49 @IEEEBigMM19 @ACMMM19 and 6 days left for workshop proposal in @IEEEBigMM19.\n",
            "\n",
            "Contact @cchatto for any query. 1 0 0\n",
            "getting tweets before 1110419817335447551\n",
            "...201 tweets downloaded so far\n",
            "getting tweets before 1043604211244646400\n",
            "...304 tweets downloaded so far\n",
            "getting tweets before 1021377705084739583\n",
            "...304 tweets downloaded so far\n"
          ],
          "name": "stdout"
        }
      ]
    },
    {
      "metadata": {
        "id": "YJmLxVHxVlyV",
        "colab_type": "code",
        "colab": {
          "base_uri": "https://localhost:8080/",
          "height": 35
        },
        "outputId": "0be63e02-c2ad-4df4-eaf8-9ee5caa0f74f"
      },
      "cell_type": "code",
      "source": [
        "!ls"
      ],
      "execution_count": 7,
      "outputs": [
        {
          "output_type": "stream",
          "text": [
            "midasIIITD_tweets.csv  sample_data\n"
          ],
          "name": "stdout"
        }
      ]
    },
    {
      "metadata": {
        "id": "hRi-bYIHlnpj",
        "colab_type": "code",
        "colab": {
          "base_uri": "https://localhost:8080/",
          "height": 194
        },
        "outputId": "24bb23b9-2f92-4d7f-8b2d-709b52a9aead"
      },
      "cell_type": "code",
      "source": [
        "import pandas as pd\n",
        "\n",
        "df = pd.read_csv(\"midasIIITD_tweets.csv\")\n",
        "df.head()"
      ],
      "execution_count": 9,
      "outputs": [
        {
          "output_type": "execute_result",
          "data": {
            "text/html": [
              "<div>\n",
              "<style scoped>\n",
              "    .dataframe tbody tr th:only-of-type {\n",
              "        vertical-align: middle;\n",
              "    }\n",
              "\n",
              "    .dataframe tbody tr th {\n",
              "        vertical-align: top;\n",
              "    }\n",
              "\n",
              "    .dataframe thead th {\n",
              "        text-align: right;\n",
              "    }\n",
              "</style>\n",
              "<table border=\"1\" class=\"dataframe\">\n",
              "  <thead>\n",
              "    <tr style=\"text-align: right;\">\n",
              "      <th></th>\n",
              "      <th>id</th>\n",
              "      <th>created_at</th>\n",
              "      <th>text</th>\n",
              "      <th># likes</th>\n",
              "      <th># Retweets</th>\n",
              "      <th># Media</th>\n",
              "    </tr>\n",
              "  </thead>\n",
              "  <tbody>\n",
              "    <tr>\n",
              "      <th>0</th>\n",
              "      <td>1110419817335447552</td>\n",
              "      <td>2019-03-26 05:54:49</td>\n",
              "      <td>@IEEEBigMM19 @ACMMM19 and 6 days left for work...</td>\n",
              "      <td>1</td>\n",
              "      <td>0</td>\n",
              "      <td>0</td>\n",
              "    </tr>\n",
              "    <tr>\n",
              "      <th>1</th>\n",
              "      <td>1110418645107113984</td>\n",
              "      <td>2019-03-26 05:50:10</td>\n",
              "      <td>RT @IEEEBigMM19: Hurry Up!\\n6 Days left for Ab...</td>\n",
              "      <td>0</td>\n",
              "      <td>3</td>\n",
              "      <td>0</td>\n",
              "    </tr>\n",
              "    <tr>\n",
              "      <th>2</th>\n",
              "      <td>1110164921352744962</td>\n",
              "      <td>2019-03-25 13:01:57</td>\n",
              "      <td>Congratulations @midasIIITD students Simra Sha...</td>\n",
              "      <td>14</td>\n",
              "      <td>1</td>\n",
              "      <td>0</td>\n",
              "    </tr>\n",
              "    <tr>\n",
              "      <th>3</th>\n",
              "      <td>1109888617302753280</td>\n",
              "      <td>2019-03-24 18:44:01</td>\n",
              "      <td>The last date for submitting a solution for th...</td>\n",
              "      <td>8</td>\n",
              "      <td>3</td>\n",
              "      <td>0</td>\n",
              "    </tr>\n",
              "    <tr>\n",
              "      <th>4</th>\n",
              "      <td>1109884092101754880</td>\n",
              "      <td>2019-03-24 18:26:02</td>\n",
              "      <td>RT @IIITDelhi: @IIITDelhi invites application ...</td>\n",
              "      <td>0</td>\n",
              "      <td>4</td>\n",
              "      <td>0</td>\n",
              "    </tr>\n",
              "  </tbody>\n",
              "</table>\n",
              "</div>"
            ],
            "text/plain": [
              "                    id           created_at  \\\n",
              "0  1110419817335447552  2019-03-26 05:54:49   \n",
              "1  1110418645107113984  2019-03-26 05:50:10   \n",
              "2  1110164921352744962  2019-03-25 13:01:57   \n",
              "3  1109888617302753280  2019-03-24 18:44:01   \n",
              "4  1109884092101754880  2019-03-24 18:26:02   \n",
              "\n",
              "                                                text  # likes  # Retweets  \\\n",
              "0  @IEEEBigMM19 @ACMMM19 and 6 days left for work...        1           0   \n",
              "1  RT @IEEEBigMM19: Hurry Up!\\n6 Days left for Ab...        0           3   \n",
              "2  Congratulations @midasIIITD students Simra Sha...       14           1   \n",
              "3  The last date for submitting a solution for th...        8           3   \n",
              "4  RT @IIITDelhi: @IIITDelhi invites application ...        0           4   \n",
              "\n",
              "   # Media  \n",
              "0        0  \n",
              "1        0  \n",
              "2        0  \n",
              "3        0  \n",
              "4        0  "
            ]
          },
          "metadata": {
            "tags": []
          },
          "execution_count": 9
        }
      ]
    },
    {
      "metadata": {
        "id": "IgyFw9d2lsTD",
        "colab_type": "code",
        "colab": {}
      },
      "cell_type": "code",
      "source": [
        ""
      ],
      "execution_count": 0,
      "outputs": []
    }
  ]
}